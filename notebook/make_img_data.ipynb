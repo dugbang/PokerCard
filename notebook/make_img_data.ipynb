{
 "cells": [
  {
   "cell_type": "markdown",
   "metadata": {},
   "source": [
    "### 카드 이미지 정보를 데이터 정보로 변환\n",
    "\n",
    "1. 카드별로 정리된 이미지를 불러옴. \n",
    "  - 이때 어느정도 옵셋으로 잘라내야 하는지는 반복적으로 이미지를 확인하여 결정\n",
    "1. 회전이나 축소 등의 기능을 사용하여 이미지 정보 확인\n",
    "  - 축소의 경우 눈으로도 확인하기 힘들어서 축소하지 않기로 함.\n",
    "1. 최종적으로 신경망 모델에 사용할 데이터 형식으로 변환하여 피클로 저장함.\n",
    "  - 피클 저장에 대한 부분은 실행파일 **make_img_data.py** 참조"
   ]
  },
  {
   "cell_type": "code",
   "execution_count": 1,
   "metadata": {},
   "outputs": [],
   "source": [
    "from PIL import Image"
   ]
  },
  {
   "cell_type": "code",
   "execution_count": 2,
   "metadata": {},
   "outputs": [],
   "source": [
    "im = Image.open('../png/S12.png')"
   ]
  },
  {
   "cell_type": "code",
   "execution_count": 9,
   "metadata": {},
   "outputs": [],
   "source": [
    "im2 = im.crop((6, 6, 36, 66))\n",
    "#im2.show()"
   ]
  },
  {
   "cell_type": "code",
   "execution_count": 5,
   "metadata": {},
   "outputs": [],
   "source": [
    "im = Image.open('../png/H02.png')\n",
    "im2 = im.crop((6, 6, 36, 66))\n",
    "#im2.show()"
   ]
  },
  {
   "cell_type": "code",
   "execution_count": 14,
   "metadata": {},
   "outputs": [],
   "source": [
    "im = Image.open('../png/C13.png')\n",
    "im2 = im.crop((6, 6, 36, 66))\n",
    "#im2.show()"
   ]
  },
  {
   "cell_type": "code",
   "execution_count": 28,
   "metadata": {},
   "outputs": [],
   "source": [
    "im3 = im2.rotate(30)\n",
    "#im3.show()"
   ]
  },
  {
   "cell_type": "code",
   "execution_count": 16,
   "metadata": {},
   "outputs": [],
   "source": [
    "im4 = im3.resize((20, 40))\n",
    "#im4.show()"
   ]
  },
  {
   "cell_type": "code",
   "execution_count": 24,
   "metadata": {},
   "outputs": [],
   "source": [
    "im = Image.open('../png/S02.png')\n",
    "im2 = im.crop((6, 6, 36, 66))\n",
    "im4 = im2.resize((20, 40))\n",
    "im4.show()"
   ]
  },
  {
   "cell_type": "code",
   "execution_count": 26,
   "metadata": {},
   "outputs": [],
   "source": [
    "im = Image.open('../png/D02.png')\n",
    "im2 = im.crop((6, 6, 36, 66))\n",
    "im4 = im2.resize((20, 40))\n",
    "im4.show()"
   ]
  },
  {
   "cell_type": "code",
   "execution_count": 43,
   "metadata": {},
   "outputs": [],
   "source": [
    "im = Image.open('../png/S02.png')\n",
    "im2 = im.crop((6, 6, 36, 66))\n",
    "im5 = im2.convert('LA')\n",
    "im5.show()"
   ]
  },
  {
   "cell_type": "markdown",
   "metadata": {},
   "source": [
    "### 정리하기\n",
    "\n",
    "1. 회전은 -30 ~ 30까지로 한다.\n",
    "1. 축소하지는 않는다. \n",
    "    - 눈으로 확인하기에도 모양 구분이 힘들다.\n",
    "1. 데이터 이미지 크기가 30x60 이다.\n",
    "1. 흑백이미지로 변환한 후 저장한다.\n",
    "1. 학습용과 테스트용을 구분하여 이미지를 생성한다.\n",
    "    - 테스트용은 임의의 각도로 회전한 후 저장"
   ]
  },
  {
   "cell_type": "code",
   "execution_count": 42,
   "metadata": {},
   "outputs": [],
   "source": [
    "im3 = im2.rotate(30, fillcolor='white')\n",
    "im3.show()"
   ]
  },
  {
   "cell_type": "code",
   "execution_count": 37,
   "metadata": {},
   "outputs": [],
   "source": [
    "im3 = im2.rotate(30, fillcolor='black')\n",
    "im3.show()"
   ]
  },
  {
   "cell_type": "code",
   "execution_count": 59,
   "metadata": {},
   "outputs": [],
   "source": [
    "im3 = im2.rotate(30, fillcolor='gray')\n",
    "im3.show()"
   ]
  },
  {
   "cell_type": "markdown",
   "metadata": {},
   "source": [
    "### 작업순서\n",
    "\n",
    "1. 레이블에 맞는 이미지를 불러온다.\n",
    "1. 설정되 영역만큼 잘라낸다.\n",
    "1. 흑백영상으로 변환한다.\n",
    "1. 설정된 영역만큼 회전한다.\n",
    "  - (-30, -20, -10, 0, 10, 20, 30)\n",
    "  - fillcolor; black / white\n",
    "1. numpy 형식으로 변환한다.\n",
    "1. 튜플 (np_img, label) 형식으로 저장한다.\n",
    "1. 작업 완료 후 튜플을 피클로 저장한다."
   ]
  },
  {
   "cell_type": "code",
   "execution_count": 7,
   "metadata": {},
   "outputs": [],
   "source": [
    "import numpy as np"
   ]
  },
  {
   "cell_type": "code",
   "execution_count": 44,
   "metadata": {},
   "outputs": [],
   "source": [
    "img_arr = np.array(im5)"
   ]
  },
  {
   "cell_type": "code",
   "execution_count": 60,
   "metadata": {},
   "outputs": [
    {
     "name": "stdout",
     "output_type": "stream",
     "text": [
      "(60, 30)\n"
     ]
    }
   ],
   "source": [
    "print(img_arr.shape)"
   ]
  },
  {
   "cell_type": "code",
   "execution_count": 8,
   "metadata": {},
   "outputs": [
    {
     "name": "stdout",
     "output_type": "stream",
     "text": [
      "[[210 255 255 ... 255 255 255]\n",
      " [255 255 255 ... 255 255 255]\n",
      " [255 255 255 ... 255 255 255]\n",
      " ...\n",
      " [255 255 255 ... 255 255 255]\n",
      " [255 255 255 ... 255 255 255]\n",
      " [255 255 255 ... 255 255 255]]\n"
     ]
    }
   ],
   "source": [
    "im5 = im2.convert('L')\n",
    "img_arr = np.array(im5)\n",
    "print(img_arr)"
   ]
  },
  {
   "cell_type": "code",
   "execution_count": 57,
   "metadata": {},
   "outputs": [],
   "source": [
    "im5.show()"
   ]
  },
  {
   "cell_type": "code",
   "execution_count": 3,
   "metadata": {},
   "outputs": [],
   "source": [
    "import matplotlib.pyplot as plt"
   ]
  },
  {
   "cell_type": "code",
   "execution_count": 68,
   "metadata": {},
   "outputs": [
    {
     "data": {
      "text/plain": [
       "([], <a list of 0 Text yticklabel objects>)"
      ]
     },
     "execution_count": 68,
     "metadata": {},
     "output_type": "execute_result"
    },
    {
     "data": {
      "image/png": "[encoded data removed]",
      "text/plain": [
       "<Figure size 432x288 with 1 Axes>"
      ]
     },
     "metadata": {},
     "output_type": "display_data"
    }
   ],
   "source": [
    "plt.imshow(img_arr, cmap='Greys', interpolation='nearest')\n",
    "plt.xticks([])\n",
    "plt.yticks([])"
   ]
  },
  {
   "cell_type": "code",
   "execution_count": null,
   "metadata": {},
   "outputs": [],
   "source": []
  }
 ],
 "metadata": {
  "kernelspec": {
   "display_name": "Python 3",
   "language": "python",
   "name": "python3"
  },
  "language_info": {
   "codemirror_mode": {
    "name": "ipython",
    "version": 3
   },
   "file_extension": ".py",
   "mimetype": "text/x-python",
   "name": "python",
   "nbconvert_exporter": "python",
   "pygments_lexer": "ipython3",
   "version": "3.7.3"
  }
 },
 "nbformat": 4,
 "nbformat_minor": 2
}
