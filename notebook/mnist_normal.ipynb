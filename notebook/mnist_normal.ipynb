{
 "cells": [
  {
   "cell_type": "code",
   "execution_count": 1,
   "metadata": {},
   "outputs": [
    {
     "name": "stderr",
     "output_type": "stream",
     "text": [
      "Using TensorFlow backend.\n"
     ]
    }
   ],
   "source": [
    "import tensorflow as tf\n",
    "import keras"
   ]
  },
  {
   "cell_type": "code",
   "execution_count": 2,
   "metadata": {},
   "outputs": [],
   "source": [
    "# Load Data\n",
    "(x_train, y_train), (x_test, y_test) = keras.datasets.mnist.load_data()"
   ]
  },
  {
   "cell_type": "code",
   "execution_count": 3,
   "metadata": {},
   "outputs": [],
   "source": [
    "# one hot encoding \n",
    "y_train = keras.utils.to_categorical(y_train, 10)\n",
    "y_test = keras.utils.to_categorical(y_test, 10)"
   ]
  },
  {
   "cell_type": "code",
   "execution_count": 4,
   "metadata": {},
   "outputs": [],
   "source": [
    "x_train = x_train.reshape([60000,28*28])\n",
    "x_test = x_test.reshape([10000,28*28])"
   ]
  },
  {
   "cell_type": "markdown",
   "metadata": {},
   "source": [
    "* 아래의 처리가 신경망 성능에 큰 영향을 미친다."
   ]
  },
  {
   "cell_type": "code",
   "execution_count": 5,
   "metadata": {},
   "outputs": [],
   "source": [
    "x_train = x_train.astype('float32') / 255.\n",
    "x_test = x_test.astype('float32') / 255."
   ]
  },
  {
   "cell_type": "code",
   "execution_count": 6,
   "metadata": {},
   "outputs": [
    {
     "name": "stdout",
     "output_type": "stream",
     "text": [
      "WARNING:tensorflow:From C:\\Users\\dugbang\\PycharmProjects\\PokerCard\\venv\\lib\\site-packages\\tensorflow\\python\\framework\\op_def_library.py:263: colocate_with (from tensorflow.python.framework.ops) is deprecated and will be removed in a future version.\n",
      "Instructions for updating:\n",
      "Colocations handled automatically by placer.\n"
     ]
    }
   ],
   "source": [
    "model = keras.Sequential()\n",
    "model.add(keras.layers.Dense(32, activation=\"sigmoid\", input_shape=(28*28,)))\n",
    "model.add(keras.layers.Dense(32, activation=\"sigmoid\"))\n",
    "model.add(keras.layers.Dense(10, activation=\"sigmoid\"))"
   ]
  },
  {
   "cell_type": "code",
   "execution_count": 7,
   "metadata": {},
   "outputs": [
    {
     "name": "stdout",
     "output_type": "stream",
     "text": [
      "_________________________________________________________________\n",
      "Layer (type)                 Output Shape              Param #   \n",
      "=================================================================\n",
      "dense_1 (Dense)              (None, 32)                25120     \n",
      "_________________________________________________________________\n",
      "dense_2 (Dense)              (None, 32)                1056      \n",
      "_________________________________________________________________\n",
      "dense_3 (Dense)              (None, 10)                330       \n",
      "=================================================================\n",
      "Total params: 26,506\n",
      "Trainable params: 26,506\n",
      "Non-trainable params: 0\n",
      "_________________________________________________________________\n"
     ]
    }
   ],
   "source": [
    "optimizer = keras.optimizers.SGD(lr=0.1)\n",
    "model.compile(optimizer=optimizer, loss=\"categorical_crossentropy\", metrics=['accuracy'])\n",
    "\n",
    "model.summary()"
   ]
  },
  {
   "cell_type": "code",
   "execution_count": 8,
   "metadata": {},
   "outputs": [
    {
     "name": "stdout",
     "output_type": "stream",
     "text": [
      "WARNING:tensorflow:From C:\\Users\\dugbang\\PycharmProjects\\PokerCard\\venv\\lib\\site-packages\\tensorflow\\python\\ops\\math_ops.py:3066: to_int32 (from tensorflow.python.ops.math_ops) is deprecated and will be removed in a future version.\n",
      "Instructions for updating:\n",
      "Use tf.cast instead.\n",
      "Train on 60000 samples, validate on 10000 samples\n",
      "Epoch 1/10\n",
      "60000/60000 [==============================] - 2s 31us/step - loss: 1.3436 - acc: 0.6238 - val_loss: 0.5519 - val_acc: 0.8606\n",
      "Epoch 2/10\n",
      "60000/60000 [==============================] - 2s 29us/step - loss: 0.4281 - acc: 0.8857 - val_loss: 0.3272 - val_acc: 0.9097\n",
      "Epoch 3/10\n",
      "60000/60000 [==============================] - 2s 28us/step - loss: 0.3072 - acc: 0.9139 - val_loss: 0.2662 - val_acc: 0.9256\n",
      "Epoch 4/10\n",
      "60000/60000 [==============================] - 2s 29us/step - loss: 0.2517 - acc: 0.9284 - val_loss: 0.2231 - val_acc: 0.9356\n",
      "Epoch 5/10\n",
      "60000/60000 [==============================] - 2s 27us/step - loss: 0.2157 - acc: 0.9387 - val_loss: 0.1966 - val_acc: 0.9441\n",
      "Epoch 6/10\n",
      "60000/60000 [==============================] - 2s 27us/step - loss: 0.1889 - acc: 0.9464 - val_loss: 0.1788 - val_acc: 0.9488\n",
      "Epoch 7/10\n",
      "60000/60000 [==============================] - 2s 28us/step - loss: 0.1697 - acc: 0.9520 - val_loss: 0.1614 - val_acc: 0.9523\n",
      "Epoch 8/10\n",
      "60000/60000 [==============================] - 2s 38us/step - loss: 0.1543 - acc: 0.9556 - val_loss: 0.1495 - val_acc: 0.9562\n",
      "Epoch 9/10\n",
      "60000/60000 [==============================] - 2s 38us/step - loss: 0.1415 - acc: 0.9595 - val_loss: 0.1393 - val_acc: 0.9576\n",
      "Epoch 10/10\n",
      "60000/60000 [==============================] - 2s 39us/step - loss: 0.1310 - acc: 0.9627 - val_loss: 0.1385 - val_acc: 0.9583\n"
     ]
    },
    {
     "data": {
      "text/plain": [
       "<keras.callbacks.History at 0x1fa44c86630>"
      ]
     },
     "execution_count": 8,
     "metadata": {},
     "output_type": "execute_result"
    }
   ],
   "source": [
    "model.fit(x_train, y_train,\n",
    "          batch_size=32,\n",
    "          epochs=10,\n",
    "          validation_data=(x_test, y_test))"
   ]
  },
  {
   "cell_type": "code",
   "execution_count": 9,
   "metadata": {},
   "outputs": [
    {
     "name": "stdout",
     "output_type": "stream",
     "text": [
      "Train on 60000 samples, validate on 10000 samples\n",
      "Epoch 1/10\n",
      "60000/60000 [==============================] - 0s 6us/step - loss: 0.1189 - acc: 0.9665 - val_loss: 0.1290 - val_acc: 0.9616\n",
      "Epoch 2/10\n",
      "60000/60000 [==============================] - 0s 6us/step - loss: 0.1171 - acc: 0.9669 - val_loss: 0.1281 - val_acc: 0.9615\n",
      "Epoch 3/10\n",
      "60000/60000 [==============================] - 0s 6us/step - loss: 0.1158 - acc: 0.9671 - val_loss: 0.1275 - val_acc: 0.9619\n",
      "Epoch 4/10\n",
      "60000/60000 [==============================] - 0s 6us/step - loss: 0.1147 - acc: 0.9675 - val_loss: 0.1269 - val_acc: 0.9622\n",
      "Epoch 5/10\n",
      "60000/60000 [==============================] - 0s 6us/step - loss: 0.1137 - acc: 0.9678 - val_loss: 0.1255 - val_acc: 0.9620\n",
      "Epoch 6/10\n",
      "60000/60000 [==============================] - 0s 6us/step - loss: 0.1127 - acc: 0.9681 - val_loss: 0.1251 - val_acc: 0.9630\n",
      "Epoch 7/10\n",
      "60000/60000 [==============================] - 0s 6us/step - loss: 0.1118 - acc: 0.9683 - val_loss: 0.1241 - val_acc: 0.9611\n",
      "Epoch 8/10\n",
      "60000/60000 [==============================] - 0s 6us/step - loss: 0.1108 - acc: 0.9688 - val_loss: 0.1236 - val_acc: 0.9622\n",
      "Epoch 9/10\n",
      "60000/60000 [==============================] - 0s 6us/step - loss: 0.1098 - acc: 0.9690 - val_loss: 0.1231 - val_acc: 0.9641\n",
      "Epoch 10/10\n",
      "60000/60000 [==============================] - 0s 6us/step - loss: 0.1089 - acc: 0.9692 - val_loss: 0.1221 - val_acc: 0.9626\n"
     ]
    },
    {
     "data": {
      "text/plain": [
       "<keras.callbacks.History at 0x1fa450f4898>"
      ]
     },
     "execution_count": 9,
     "metadata": {},
     "output_type": "execute_result"
    }
   ],
   "source": [
    "model.fit(x_train, y_train,\n",
    "          batch_size=256,\n",
    "          epochs=10,\n",
    "          validation_data=(x_test, y_test))"
   ]
  },
  {
   "cell_type": "code",
   "execution_count": null,
   "metadata": {},
   "outputs": [],
   "source": []
  }
 ],
 "metadata": {
  "kernelspec": {
   "display_name": "Python 3",
   "language": "python",
   "name": "python3"
  },
  "language_info": {
   "codemirror_mode": {
    "name": "ipython",
    "version": 3
   },
   "file_extension": ".py",
   "mimetype": "text/x-python",
   "name": "python",
   "nbconvert_exporter": "python",
   "pygments_lexer": "ipython3",
   "version": "3.7.3"
  }
 },
 "nbformat": 4,
 "nbformat_minor": 2
}
