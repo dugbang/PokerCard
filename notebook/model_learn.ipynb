{
 "cells": [
  {
   "cell_type": "markdown",
   "metadata": {},
   "source": [
    "### 모델 학습하기\n",
    "\n",
    "1. 저장된 데이터를 읽어와서 신경망 모델에 입력할 수 있는 형태로 변경\n",
    "1. 입력조건이나 네트워크 크기 및 학습 알고리즘을 변경하면서 학습효과가 높은 조건 확인\n",
    "  - **인공지능 분야에서 얘기하는 노가다 작업**\n",
    "1. 만족할 만한 조건을 확인하면 해당 조건으로 학습된 모델을 저장\n",
    "1. 실전에서는 저장된 모델을 불러와서 사용하면 됨."
   ]
  },
  {
   "cell_type": "code",
   "execution_count": 1,
   "metadata": {},
   "outputs": [],
   "source": [
    "import pickle\n",
    "import numpy as np\n",
    "from tensorflow import keras\n",
    "\n",
    "POKER_CARD_LENGTH = 52"
   ]
  },
  {
   "cell_type": "code",
   "execution_count": 2,
   "metadata": {},
   "outputs": [],
   "source": [
    "def load_image_data(type_='train'):\n",
    "    if type_ not in ('train', 'test'):\n",
    "        raise Exception(f\"type error(train, test); {type_}\")\n",
    "\n",
    "    return pickle.load(open(f\"../{type_}.pickle\", 'rb'))\n",
    "\n",
    "\n",
    "def load_train_data():\n",
    "    train_ = load_image_data('train')\n",
    "    return np.array([r[0] for r in train_]), np.array([r[1] for r in train_])\n",
    "\n",
    "\n",
    "def load_test_data():\n",
    "    test_ = load_image_data('test')\n",
    "    return np.array([r[0] for r in test_]), np.array([r[1] for r in test_])"
   ]
  },
  {
   "cell_type": "code",
   "execution_count": 3,
   "metadata": {},
   "outputs": [],
   "source": [
    "x_train, y_train = load_train_data()\n",
    "x_test, y_test = load_test_data()\n",
    "\n",
    "# one hot encoding\n",
    "y_train = keras.utils.to_categorical(y_train, POKER_CARD_LENGTH)\n",
    "y_test = keras.utils.to_categorical(y_test, POKER_CARD_LENGTH)"
   ]
  },
  {
   "cell_type": "code",
   "execution_count": 4,
   "metadata": {},
   "outputs": [],
   "source": [
    "x_train = x_train.reshape([x_train.shape[0], x_train.shape[1] * x_train.shape[2]])\n",
    "x_test = x_test.reshape([x_test.shape[0], x_test.shape[1] * x_test.shape[2]])"
   ]
  },
  {
   "cell_type": "code",
   "execution_count": 5,
   "metadata": {},
   "outputs": [
    {
     "name": "stdout",
     "output_type": "stream",
     "text": [
      "(1924, 1800) (624, 1800)\n"
     ]
    }
   ],
   "source": [
    "print(x_train.shape, x_test.shape)"
   ]
  },
  {
   "cell_type": "code",
   "execution_count": 6,
   "metadata": {},
   "outputs": [],
   "source": [
    "x_train = x_train.astype('float32') / 255.\n",
    "x_test = x_test.astype('float32') / 255."
   ]
  },
  {
   "cell_type": "markdown",
   "metadata": {},
   "source": [
    "### 이후부터는 네트워크 모델을 바꿔가면서 반복적인 테스트가 필요함."
   ]
  },
  {
   "cell_type": "code",
   "execution_count": 13,
   "metadata": {},
   "outputs": [],
   "source": [
    "model = keras.Sequential()\n",
    "model.add(keras.layers.Dense(128, activation=\"relu\", input_shape=(x_train.shape[1],)))\n",
    "model.add(keras.layers.Dense(128, activation=\"relu\"))\n",
    "model.add(keras.layers.Dense(POKER_CARD_LENGTH, activation=\"softmax\"))"
   ]
  },
  {
   "cell_type": "code",
   "execution_count": 14,
   "metadata": {},
   "outputs": [
    {
     "name": "stdout",
     "output_type": "stream",
     "text": [
      "_________________________________________________________________\n",
      "Layer (type)                 Output Shape              Param #   \n",
      "=================================================================\n",
      "dense_6 (Dense)              (None, 128)               230528    \n",
      "_________________________________________________________________\n",
      "dense_7 (Dense)              (None, 128)               16512     \n",
      "_________________________________________________________________\n",
      "dense_8 (Dense)              (None, 52)                6708      \n",
      "=================================================================\n",
      "Total params: 253,748\n",
      "Trainable params: 253,748\n",
      "Non-trainable params: 0\n",
      "_________________________________________________________________\n"
     ]
    }
   ],
   "source": [
    "optimizer = keras.optimizers.SGD(lr=0.01)\n",
    "model.compile(optimizer=optimizer, loss=\"categorical_crossentropy\", metrics=['accuracy'])\n",
    "model.summary()"
   ]
  },
  {
   "cell_type": "code",
   "execution_count": 15,
   "metadata": {},
   "outputs": [
    {
     "name": "stdout",
     "output_type": "stream",
     "text": [
      "Train on 1924 samples, validate on 624 samples\n",
      "Epoch 1/10\n",
      "1924/1924 [==============================] - 1s 536us/sample - loss: 3.8582 - acc: 0.0567 - val_loss: 3.5793 - val_acc: 0.1923\n",
      "Epoch 2/10\n",
      "1924/1924 [==============================] - 1s 478us/sample - loss: 3.0779 - acc: 0.2568 - val_loss: 2.3819 - val_acc: 0.4022\n",
      "Epoch 3/10\n",
      "1924/1924 [==============================] - 1s 441us/sample - loss: 1.7869 - acc: 0.5504 - val_loss: 1.2704 - val_acc: 0.6923\n",
      "Epoch 4/10\n",
      "1924/1924 [==============================] - 1s 438us/sample - loss: 0.8914 - acc: 0.8119 - val_loss: 0.6265 - val_acc: 0.8990\n",
      "Epoch 5/10\n",
      "1924/1924 [==============================] - 1s 433us/sample - loss: 0.4212 - acc: 0.9361 - val_loss: 0.3242 - val_acc: 0.9551\n",
      "Epoch 6/10\n",
      "1924/1924 [==============================] - 1s 431us/sample - loss: 0.2201 - acc: 0.9818 - val_loss: 0.1834 - val_acc: 0.9968\n",
      "Epoch 7/10\n",
      "1924/1924 [==============================] - 1s 436us/sample - loss: 0.1267 - acc: 0.9953 - val_loss: 0.1095 - val_acc: 0.9984\n",
      "Epoch 8/10\n",
      "1924/1924 [==============================] - 1s 374us/sample - loss: 0.0785 - acc: 1.0000 - val_loss: 0.0779 - val_acc: 1.0000\n",
      "Epoch 9/10\n",
      "1924/1924 [==============================] - 1s 389us/sample - loss: 0.0555 - acc: 1.0000 - val_loss: 0.0544 - val_acc: 1.0000\n",
      "Epoch 10/10\n",
      "1924/1924 [==============================] - 1s 376us/sample - loss: 0.0414 - acc: 1.0000 - val_loss: 0.0451 - val_acc: 1.0000\n"
     ]
    },
    {
     "data": {
      "text/plain": [
       "<tensorflow.python.keras.callbacks.History at 0x21745f17cf8>"
      ]
     },
     "execution_count": 15,
     "metadata": {},
     "output_type": "execute_result"
    }
   ],
   "source": [
    "model.fit(x_train, y_train,\n",
    "          batch_size=4,\n",
    "          epochs=10,\n",
    "          validation_data=(x_test, y_test))"
   ]
  },
  {
   "cell_type": "code",
   "execution_count": 16,
   "metadata": {},
   "outputs": [
    {
     "name": "stdout",
     "output_type": "stream",
     "text": [
      "Test loss: 0.04513678780924051\n",
      "Test accuracy: 1.0\n"
     ]
    }
   ],
   "source": [
    "score = model.evaluate(x_test, y_test, verbose=0)\n",
    "print('Test loss:', score[0])\n",
    "print('Test accuracy:', score[1])"
   ]
  },
  {
   "cell_type": "markdown",
   "metadata": {},
   "source": [
    "#### sigmoid 에서는 학습되지 않고 relu, softmax 적용시 학습되는 것을 확인함."
   ]
  },
  {
   "cell_type": "code",
   "execution_count": 22,
   "metadata": {},
   "outputs": [],
   "source": [
    "from tensorflow.python.keras.layers import Dropout"
   ]
  },
  {
   "cell_type": "code",
   "execution_count": 27,
   "metadata": {},
   "outputs": [],
   "source": [
    "model = keras.Sequential()\n",
    "model.add(keras.layers.Dense(128, activation=\"relu\", input_shape=(x_train.shape[1],)))\n",
    "model.add(keras.layers.Dense(128, activation=\"relu\"))\n",
    "#model.add(Dropout(0.5))\n",
    "model.add(keras.layers.Dense(POKER_CARD_LENGTH, activation=\"softmax\"))"
   ]
  },
  {
   "cell_type": "code",
   "execution_count": 28,
   "metadata": {},
   "outputs": [
    {
     "name": "stdout",
     "output_type": "stream",
     "text": [
      "_________________________________________________________________\n",
      "Layer (type)                 Output Shape              Param #   \n",
      "=================================================================\n",
      "dense_16 (Dense)             (None, 128)               230528    \n",
      "_________________________________________________________________\n",
      "dense_17 (Dense)             (None, 128)               16512     \n",
      "_________________________________________________________________\n",
      "dense_18 (Dense)             (None, 52)                6708      \n",
      "=================================================================\n",
      "Total params: 253,748\n",
      "Trainable params: 253,748\n",
      "Non-trainable params: 0\n",
      "_________________________________________________________________\n"
     ]
    }
   ],
   "source": [
    "model.compile(optimizer='Adam', loss=\"categorical_crossentropy\", metrics=['accuracy'])\n",
    "model.summary()"
   ]
  },
  {
   "cell_type": "code",
   "execution_count": 29,
   "metadata": {},
   "outputs": [
    {
     "name": "stdout",
     "output_type": "stream",
     "text": [
      "Train on 1924 samples, validate on 624 samples\n",
      "Epoch 1/10\n",
      "1924/1924 [==============================] - 2s 794us/sample - loss: 2.8976 - acc: 0.2510 - val_loss: 1.3322 - val_acc: 0.6362\n",
      "Epoch 2/10\n",
      "1924/1924 [==============================] - 1s 668us/sample - loss: 0.6370 - acc: 0.8170 - val_loss: 0.3699 - val_acc: 0.8878\n",
      "Epoch 3/10\n",
      "1924/1924 [==============================] - 1s 646us/sample - loss: 0.2079 - acc: 0.9454 - val_loss: 0.1430 - val_acc: 0.9760\n",
      "Epoch 4/10\n",
      "1924/1924 [==============================] - 1s 626us/sample - loss: 0.0940 - acc: 0.9771 - val_loss: 0.1702 - val_acc: 0.9583\n",
      "Epoch 5/10\n",
      "1924/1924 [==============================] - 1s 617us/sample - loss: 0.1304 - acc: 0.9579 - val_loss: 0.2854 - val_acc: 0.9151\n",
      "Epoch 6/10\n",
      "1924/1924 [==============================] - 1s 623us/sample - loss: 0.1517 - acc: 0.9553 - val_loss: 0.0998 - val_acc: 0.9631\n",
      "Epoch 7/10\n",
      "1924/1924 [==============================] - 1s 647us/sample - loss: 0.0274 - acc: 0.9917 - val_loss: 0.0025 - val_acc: 1.0000\n",
      "Epoch 8/10\n",
      "1924/1924 [==============================] - 1s 667us/sample - loss: 0.0013 - acc: 1.0000 - val_loss: 0.0014 - val_acc: 1.0000\n",
      "Epoch 9/10\n",
      "1924/1924 [==============================] - 1s 658us/sample - loss: 7.7266e-04 - acc: 1.0000 - val_loss: 0.0011 - val_acc: 1.0000\n",
      "Epoch 10/10\n",
      "1924/1924 [==============================] - 2s 808us/sample - loss: 5.7204e-04 - acc: 1.0000 - val_loss: 8.1054e-04 - val_acc: 1.0000\n"
     ]
    },
    {
     "data": {
      "text/plain": [
       "<tensorflow.python.keras.callbacks.History at 0x2174bf3c588>"
      ]
     },
     "execution_count": 29,
     "metadata": {},
     "output_type": "execute_result"
    }
   ],
   "source": [
    "model.fit(x_train, y_train,\n",
    "          batch_size=4,\n",
    "          epochs=10,\n",
    "          validation_data=(x_test, y_test))"
   ]
  },
  {
   "cell_type": "code",
   "execution_count": 30,
   "metadata": {},
   "outputs": [
    {
     "name": "stdout",
     "output_type": "stream",
     "text": [
      "Test loss: 0.0008105412480057193\n",
      "Test accuracy: 1.0\n"
     ]
    }
   ],
   "source": [
    "score = model.evaluate(x_test, y_test, verbose=0)\n",
    "print('Test loss:', score[0])\n",
    "print('Test accuracy:', score[1])"
   ]
  },
  {
   "cell_type": "markdown",
   "metadata": {},
   "source": [
    "### 저장하기 및 불러오기"
   ]
  },
  {
   "cell_type": "code",
   "execution_count": 31,
   "metadata": {},
   "outputs": [],
   "source": [
    "# model.save('../model_poker_card.h5')"
   ]
  },
  {
   "cell_type": "code",
   "execution_count": 32,
   "metadata": {},
   "outputs": [],
   "source": [
    "from tensorflow.python.keras.models import load_model"
   ]
  },
  {
   "cell_type": "code",
   "execution_count": 34,
   "metadata": {},
   "outputs": [],
   "source": [
    "model2 = load_model('../model_poker_card.h5')"
   ]
  },
  {
   "cell_type": "code",
   "execution_count": 35,
   "metadata": {},
   "outputs": [],
   "source": [
    "xhat_idx = np.random.choice(x_test.shape[0], 5)\n",
    "xhat = x_test[xhat_idx]"
   ]
  },
  {
   "cell_type": "code",
   "execution_count": 36,
   "metadata": {},
   "outputs": [],
   "source": [
    "yhat = model.predict_classes(xhat)"
   ]
  },
  {
   "cell_type": "code",
   "execution_count": 38,
   "metadata": {},
   "outputs": [],
   "source": [
    "from numpy import argmax"
   ]
  },
  {
   "cell_type": "code",
   "execution_count": 39,
   "metadata": {},
   "outputs": [
    {
     "name": "stdout",
     "output_type": "stream",
     "text": [
      "True : 16, Predict : 16\n",
      "True : 22, Predict : 22\n",
      "True : 30, Predict : 30\n",
      "True : 8, Predict : 8\n",
      "True : 37, Predict : 37\n"
     ]
    }
   ],
   "source": [
    "for i in range(5):\n",
    "    print('True : ' + str(argmax(y_test[xhat_idx[i]])) + ', Predict : ' + str(yhat[i]))"
   ]
  },
  {
   "cell_type": "markdown",
   "metadata": {},
   "source": [
    "#### model.predict 와 model.predict_classes 의 차이를 확인하기 위해 실행해봄."
   ]
  },
  {
   "cell_type": "code",
   "execution_count": 40,
   "metadata": {},
   "outputs": [],
   "source": [
    "yhat = model.predict(xhat)"
   ]
  },
  {
   "cell_type": "code",
   "execution_count": 43,
   "metadata": {},
   "outputs": [
    {
     "name": "stdout",
     "output_type": "stream",
     "text": [
      "True : 16, Predict : [3.35516347e-18 2.22143779e-18 5.67638509e-18 8.70893302e-07\n",
      " 6.38144614e-19 5.83728573e-16 2.25347313e-15 9.10555946e-14\n",
      " 2.83132469e-14 4.07546677e-18 4.15725699e-19 2.13979281e-19\n",
      " 3.33026954e-20 6.25090502e-20 1.35447625e-11 7.21071980e-10\n",
      " 9.99530315e-01 2.65343338e-11 6.19699714e-09 1.39422411e-07\n",
      " 1.13040342e-05 4.34204878e-04 6.66711152e-13 1.75020482e-17\n",
      " 1.98517081e-18 6.72894263e-21 5.74596252e-13 6.19452458e-21\n",
      " 6.34423902e-11 3.24259174e-13 5.26069693e-13 1.13086776e-15\n",
      " 1.52504265e-09 1.38143715e-13 7.18817930e-08 2.92825185e-14\n",
      " 1.25873509e-12 4.34348225e-16 2.05994029e-18 7.87720312e-13\n",
      " 9.07292248e-16 2.62409507e-08 3.38581455e-11 2.75765188e-10\n",
      " 8.82073303e-10 9.65684990e-07 3.28690417e-12 2.21875489e-05\n",
      " 1.84974345e-11 3.66516217e-09 2.13460716e-12 1.28369456e-18]\n",
      "True : 22, Predict : [3.66905129e-09 1.01217667e-12 1.17433962e-13 1.22764004e-06\n",
      " 1.42734899e-08 4.71570416e-07 4.04350707e-13 1.15488829e-05\n",
      " 1.63792919e-07 1.03686602e-04 4.85706510e-11 1.27966950e-05\n",
      " 4.82100575e-07 6.98568983e-05 1.45293228e-12 1.82484895e-11\n",
      " 6.72620903e-10 4.58497169e-07 1.74836282e-06 1.55338558e-15\n",
      " 1.46441110e-07 1.69598991e-07 9.99682903e-01 5.46812735e-05\n",
      " 1.69147534e-05 1.35655655e-05 8.94159122e-11 8.13534895e-13\n",
      " 1.10836696e-11 1.50167134e-09 2.74531925e-10 5.00727504e-09\n",
      " 7.02112977e-12 4.04856010e-10 2.84741134e-07 2.88141546e-05\n",
      " 2.61962934e-12 8.88583518e-09 5.30955011e-12 4.14647159e-19\n",
      " 3.85304567e-17 2.24684456e-17 1.90192693e-15 2.13484024e-15\n",
      " 2.44448748e-13 3.08916721e-17 1.59243796e-16 1.73811733e-15\n",
      " 1.80153725e-10 1.76551915e-11 5.79992760e-13 5.37528326e-16]\n",
      "True : 30, Predict : [3.9270372e-13 1.1420353e-17 2.1865960e-10 4.3934372e-09 1.3678297e-15\n",
      " 9.0865560e-10 7.5602522e-14 2.5915829e-08 4.2472899e-13 5.5264262e-16\n",
      " 3.6709657e-13 5.7302313e-13 2.2401676e-13 1.2661318e-11 1.4718217e-17\n",
      " 3.5092533e-09 9.9825854e-09 2.1297619e-12 6.4480997e-11 3.4973341e-12\n",
      " 7.4140496e-07 4.6741766e-09 1.8695927e-13 1.7704722e-10 1.7988565e-11\n",
      " 1.2657296e-13 2.7626562e-10 2.8479613e-10 1.7720605e-04 2.4630475e-09\n",
      " 9.9814832e-01 7.1178173e-04 6.0959877e-08 1.3905719e-06 1.9772995e-05\n",
      " 8.5247982e-11 8.8776369e-07 6.8248025e-11 1.2474809e-13 1.6396716e-15\n",
      " 9.3729735e-10 8.1545994e-07 7.5036074e-14 9.3872973e-04 2.2039046e-07\n",
      " 3.1918641e-11 1.1528295e-09 9.2944159e-09 6.8380177e-14 9.4409618e-09\n",
      " 3.8391836e-14 1.7655156e-17]\n",
      "True : 8, Predict : [1.8704993e-14 8.7993909e-14 1.7124879e-09 1.7661466e-06 7.8960153e-07\n",
      " 1.2641649e-09 3.9992050e-09 1.5470503e-06 9.9997270e-01 2.5585018e-06\n",
      " 3.2412734e-10 4.9895710e-09 1.2544969e-13 1.8052761e-10 3.1286760e-21\n",
      " 5.2805238e-12 8.9746416e-17 1.3703887e-13 2.4251591e-13 5.3909217e-19\n",
      " 1.8581187e-13 5.4294322e-08 1.6474562e-08 2.0717591e-05 4.8383613e-14\n",
      " 9.1691628e-12 3.8341764e-24 4.2230850e-16 6.1874428e-20 7.2197495e-17\n",
      " 6.2516866e-14 2.3803121e-17 2.9098867e-16 7.5945715e-17 2.2284891e-12\n",
      " 1.5504203e-14 1.5202925e-15 8.1264214e-19 3.0084579e-24 4.2501390e-31\n",
      " 6.1142218e-25 4.5503749e-28 8.9451724e-26 2.7286994e-16 7.5846872e-20\n",
      " 1.6709577e-22 2.8649537e-27 1.2998207e-21 1.3394715e-20 1.4023861e-17\n",
      " 1.4119175e-27 5.5539182e-30]\n",
      "True : 37, Predict : [3.8129938e-12 1.4954775e-17 5.7189634e-19 1.5592341e-15 1.4811324e-15\n",
      " 5.3276298e-12 4.0218248e-21 2.1719712e-14 2.8733426e-17 9.0623217e-13\n",
      " 3.6185420e-16 1.9747326e-08 5.2070775e-11 1.3660287e-09 9.0089863e-16\n",
      " 8.2572684e-18 3.7655802e-13 6.6576258e-12 1.4854032e-09 4.8697215e-18\n",
      " 9.0187519e-12 1.4207667e-14 2.9413175e-07 5.8351410e-12 2.0466640e-04\n",
      " 9.2529748e-11 2.0337172e-08 1.6914543e-08 3.7102639e-09 1.2409125e-11\n",
      " 3.0141310e-11 2.0843760e-09 6.0395092e-11 5.7756884e-09 1.0509045e-09\n",
      " 2.0454374e-05 1.3796210e-13 9.9976724e-01 2.4843828e-08 2.8750326e-16\n",
      " 4.3827608e-10 1.2738114e-12 3.0248126e-16 1.6773747e-17 9.1970693e-12\n",
      " 3.8377389e-14 6.0574305e-13 1.6296116e-16 6.9965556e-10 8.3774101e-13\n",
      " 7.2544062e-06 2.0631641e-12]\n"
     ]
    }
   ],
   "source": [
    "for i in range(5):\n",
    "    print('True : ' + str(argmax(y_test[xhat_idx[i]])) + ', Predict : ' + str(yhat[i]))"
   ]
  },
  {
   "cell_type": "code",
   "execution_count": 44,
   "metadata": {},
   "outputs": [
    {
     "name": "stdout",
     "output_type": "stream",
     "text": [
      "True : 16, Predict : 16\n",
      "True : 22, Predict : 22\n",
      "True : 30, Predict : 30\n",
      "True : 8, Predict : 8\n",
      "True : 37, Predict : 37\n"
     ]
    }
   ],
   "source": [
    "for i in range(5):\n",
    "    print('True : ' + str(argmax(y_test[xhat_idx[i]])) + ', Predict : ' + str(argmax(yhat[i])))"
   ]
  },
  {
   "cell_type": "code",
   "execution_count": null,
   "metadata": {},
   "outputs": [],
   "source": []
  }
 ],
 "metadata": {
  "kernelspec": {
   "display_name": "Python 3",
   "language": "python",
   "name": "python3"
  },
  "language_info": {
   "codemirror_mode": {
    "name": "ipython",
    "version": 3
   },
   "file_extension": ".py",
   "mimetype": "text/x-python",
   "name": "python",
   "nbconvert_exporter": "python",
   "pygments_lexer": "ipython3",
   "version": "3.7.3"
  }
 },
 "nbformat": 4,
 "nbformat_minor": 2
}
