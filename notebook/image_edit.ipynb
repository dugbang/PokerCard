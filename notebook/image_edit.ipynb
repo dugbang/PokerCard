{
 "cells": [
  {
   "cell_type": "markdown",
   "metadata": {},
   "source": [
    "### 설치된 패키지 버전 확인"
   ]
  },
  {
   "cell_type": "code",
   "execution_count": 1,
   "metadata": {},
   "outputs": [],
   "source": [
    "%load_ext watermark"
   ]
  },
  {
   "cell_type": "code",
   "execution_count": 2,
   "metadata": {},
   "outputs": [],
   "source": [
    "%matplotlib inline"
   ]
  },
  {
   "cell_type": "code",
   "execution_count": 3,
   "metadata": {},
   "outputs": [
    {
     "name": "stderr",
     "output_type": "stream",
     "text": [
      "Using TensorFlow backend.\n"
     ]
    },
    {
     "name": "stdout",
     "output_type": "stream",
     "text": [
      "CPython 3.7.3\n",
      "IPython 7.5.0\n",
      "\n",
      "sklearn 0.21.2\n",
      "numpy 1.16.4\n",
      "scipy 1.3.0\n",
      "matplotlib 3.1.0\n",
      "tensorflow 1.13.1\n",
      "keras 2.2.4\n",
      "watermark 1.8.1\n"
     ]
    }
   ],
   "source": [
    "%watermark -v -p sklearn,numpy,scipy,matplotlib,tensorflow,keras,watermark"
   ]
  },
  {
   "cell_type": "markdown",
   "metadata": {},
   "source": [
    "### 전체 카드 이미지에서 개별 카드 이미지 잘라내기\n",
    "\n",
    "1. 전체 카드 이미지를 불러온다.\n",
    "1. X 축과 Y 축으로 값들을 변화시키며 카드가 배열된 규칙성을 확인한다.\n",
    "\n",
    "\n",
    "* PS; 여러번 반복하여 규칙성을 찾아냈으나 문서를 정리하면서 순차적으로 실행한 것으로 재정의함."
   ]
  },
  {
   "cell_type": "code",
   "execution_count": 4,
   "metadata": {},
   "outputs": [],
   "source": [
    "from PIL import Image"
   ]
  },
  {
   "cell_type": "code",
   "execution_count": 5,
   "metadata": {},
   "outputs": [
    {
     "name": "stdout",
     "output_type": "stream",
     "text": [
      "../png/poker_card.png\n",
      "(2496, 1211)\n",
      "2496 1211\n",
      "PNG\n"
     ]
    }
   ],
   "source": [
    "im = Image.open('../png/poker_card.png')\n",
    "\n",
    "print(im.filename)\n",
    "print(im.size)\n",
    "print(im.width, im.height)\n",
    "print(im.format)"
   ]
  },
  {
   "cell_type": "code",
   "execution_count": 6,
   "metadata": {},
   "outputs": [],
   "source": [
    "im2 = im.crop((95, 55, 255, 280))\n",
    "im2.show()"
   ]
  },
  {
   "cell_type": "code",
   "execution_count": 7,
   "metadata": {},
   "outputs": [],
   "source": [
    "im3 = im.crop((260, 55, 420, 280))\n",
    "im3.show()"
   ]
  },
  {
   "cell_type": "code",
   "execution_count": 8,
   "metadata": {},
   "outputs": [],
   "source": [
    "im4 = im.crop((425, 55, 585, 280))\n",
    "im4.show()"
   ]
  },
  {
   "cell_type": "code",
   "execution_count": 9,
   "metadata": {},
   "outputs": [],
   "source": [
    "im_2 = im.crop((95, 285, 255, 510))\n",
    "im_2.show()"
   ]
  },
  {
   "cell_type": "code",
   "execution_count": null,
   "metadata": {},
   "outputs": [],
   "source": []
  }
 ],
 "metadata": {
  "kernelspec": {
   "display_name": "Python 3",
   "language": "python",
   "name": "python3"
  },
  "language_info": {
   "codemirror_mode": {
    "name": "ipython",
    "version": 3
   },
   "file_extension": ".py",
   "mimetype": "text/x-python",
   "name": "python",
   "nbconvert_exporter": "python",
   "pygments_lexer": "ipython3",
   "version": "3.7.3"
  }
 },
 "nbformat": 4,
 "nbformat_minor": 2
}
